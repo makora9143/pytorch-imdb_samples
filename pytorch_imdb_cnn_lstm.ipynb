{
 "cells": [
  {
   "cell_type": "code",
   "execution_count": 15,
   "metadata": {
    "ExecuteTime": {
     "end_time": "2017-06-20T06:39:02.498252",
     "start_time": "2017-06-20T15:39:02.489652+09:00"
    },
    "collapsed": false
   },
   "outputs": [],
   "source": [
    "%matplotlib inline\n",
    "import matplotlib.pyplot as plt\n",
    "import torch\n",
    "import torch.nn as nn\n",
    "import torch.nn.functional as F\n",
    "from torch.autograd import Variable\n",
    "import torch.optim as optim\n",
    "import torch.utils.data as data\n",
    "from torch.nn.utils.rnn import pack_padded_sequence, pad_packed_sequence\n",
    "import numpy as np\n",
    "import random\n",
    "\n",
    "use_cuda = True\n",
    "device_id = 3\n",
    "from tensorflow.contrib.keras.python.keras.datasets.imdb import load_data, get_word_index\n",
    "\n",
    "max_features = 5000\n",
    "batch_size = 30\n",
    "epochs = 15\n",
    "learning_rate = 0.001"
   ]
  },
  {
   "cell_type": "code",
   "execution_count": 11,
   "metadata": {
    "ExecuteTime": {
     "end_time": "2017-06-20T06:30:18.479819",
     "start_time": "2017-06-20T15:30:18.466895+09:00"
    },
    "collapsed": false
   },
   "outputs": [],
   "source": [
    "import time\n",
    "import math\n",
    "\n",
    "\n",
    "def asMinutes(s):\n",
    "    m = math.floor(s / 60)\n",
    "    s -= m * 60\n",
    "    return '%dm %ds' % (m, s)\n",
    "\n",
    "\n",
    "def timeSince(since, percent):\n",
    "    now = time.time()\n",
    "    s = now - since\n",
    "    es = s / (percent)\n",
    "    rs = es - s\n",
    "    return '%s (- %s)' % (asMinutes(s), asMinutes(rs))\n",
    "\n",
    "def showPlot(points):\n",
    "    plt.figure()\n",
    "    fig, ax = plt.subplots()\n",
    "    # this locator puts ticks at regular intervals\n",
    "    loc = ticker.MultipleLocator(base=0.2)\n",
    "    ax.yaxis.set_major_locator(loc)\n",
    "    plt.plot(points)"
   ]
  },
  {
   "cell_type": "code",
   "execution_count": 3,
   "metadata": {
    "ExecuteTime": {
     "end_time": "2017-06-20T06:28:13.695630",
     "start_time": "2017-06-20T15:27:32.212776+09:00"
    },
    "collapsed": false
   },
   "outputs": [],
   "source": [
    "(x_train, y_train), (x_test, y_test) = load_data(num_words=max_features)\n"
   ]
  },
  {
   "cell_type": "code",
   "execution_count": 4,
   "metadata": {
    "ExecuteTime": {
     "end_time": "2017-06-20T06:28:13.702826",
     "start_time": "2017-06-20T15:28:13.697527+09:00"
    },
    "collapsed": false
   },
   "outputs": [],
   "source": [
    "def pad(tensor, length):\n",
    "    return torch.cat([tensor, tensor.new(length - tensor.size(0),*tensor.size()[1:]).zero_()])"
   ]
  },
  {
   "cell_type": "code",
   "execution_count": 5,
   "metadata": {
    "ExecuteTime": {
     "end_time": "2017-06-20T06:28:13.738712",
     "start_time": "2017-06-20T15:28:13.704145+09:00"
    },
    "collapsed": false
   },
   "outputs": [],
   "source": [
    "def sortedText(idx, xs, ys):\n",
    "    batch_xs = xs[idx]\n",
    "    batch_ys = ys[idx]\n",
    "    lengths = np.array([len(x) for x in batch_xs])\n",
    "    sort_idx = np.argsort(lengths)[::-1]\n",
    "    return batch_xs[sort_idx], lengths[sort_idx], batch_ys[sort_idx]\n",
    "\n",
    "\n",
    "def textTensor(idx, xs, ys):\n",
    "    batch_xs, lengths, batch_ys = sortedText(idx, xs, ys)\n",
    "    max_length = lengths[0]\n",
    "    return torch.cat([pad(torch.Tensor(x), max_length).view(max_length, 1)\n",
    "                      for x in batch_xs], 1).long(), list(lengths), torch.FloatTensor(batch_ys)\n"
   ]
  },
  {
   "cell_type": "code",
   "execution_count": 6,
   "metadata": {
    "ExecuteTime": {
     "end_time": "2017-06-20T06:28:13.756487",
     "start_time": "2017-06-20T15:28:13.740733+09:00"
    },
    "collapsed": false
   },
   "outputs": [],
   "source": [
    "def get_last_step_indices(lengths):\n",
    "    n_lengths = len(lengths)\n",
    "    rev_lengths = lengths[::-1]\n",
    "    rev_lengths_sum = torch.LongTensor(rev_lengths).cumsum(0)\n",
    "    return torch.LongTensor([(n_lengths - i - 1) * length + rev_lengths_sum[i] - 1\n",
    "                         for i, length in enumerate(rev_lengths)][::-1])\n",
    "\n",
    "\n",
    "def get_last_step_tensor(packed_sequence, lengths):\n",
    "    indices = Variable(torch.LongTensor(get_last_step_indices(lengths)))\n",
    "    if packed_sequence.data.data.is_cuda:\n",
    "        indices = indices.cuda(packed_sequence.data.data.get_device())\n",
    "    last_step = packed_sequence.data.index_select(0, indices)\n",
    "    return last_step"
   ]
  },
  {
   "cell_type": "code",
   "execution_count": 7,
   "metadata": {
    "ExecuteTime": {
     "end_time": "2017-06-20T06:28:13.794960",
     "start_time": "2017-06-20T15:28:13.758089+09:00"
    },
    "collapsed": false
   },
   "outputs": [],
   "source": [
    "class IMDB_Classifier(nn.Module):\n",
    "    def __init__(self, input_size, embedding_size, filters, hidden_size, batch_size, n_layers=1):\n",
    "        super(IMDB_Classifier, self).__init__()\n",
    "        self.n_layers = n_layers\n",
    "        self.embedding_size = embedding_size\n",
    "        self.filters = filters\n",
    "        self.hidden_size = hidden_size\n",
    "        self.batch_size = batch_size\n",
    "        \n",
    "        self.embedding = nn.Embedding(input_size, embedding_size)\n",
    "        self.dropout = nn.Dropout(0.25)\n",
    "        self.conv = nn.Conv1d(embedding_size, filters, 5, stride=1, padding=0)\n",
    "        self.pooling = nn.MaxPool1d(4)\n",
    "        self.lstm = nn.LSTM(filters, hidden_size)\n",
    "        self.dense = nn.Linear(hidden_size, 1)\n",
    "        \n",
    "    def forward(self, word_input, input_length, hidden=None):\n",
    "        word_embedded = self.embedding(word_input)\n",
    "        output = self.dropout(word_embedded)\n",
    "        output = output.transpose(0, 1).transpose(1,2)\n",
    "        output = F.relu(self.conv(output))\n",
    "        output = self.pooling(output)\n",
    "        output = output.transpose(1, 2).transpose(0, 1)\n",
    "        input_length = [(i-4)/4 for i in input_length]\n",
    "        output = pack_padded_sequence(output, input_length)\n",
    "        output, hidden = self.lstm(output, hidden)\n",
    "        output = get_last_step_tensor(output, input_length)\n",
    "        output = F.sigmoid(self.dense(output))\n",
    "        \n",
    "        return output\n",
    "        \n",
    "    \n",
    "    def initHidden(self):\n",
    "        hidden = Variable(torch.zeros(1, self.batch_size, self.hidden_size))\n",
    "        cell = Variable(torch.zeros(1, self.batch_size, self.hidden_size))\n",
    "        return (hidden.cuda(device_id), cell.cuda(device_id)) if use_cuda else (hidden, cell) "
   ]
  },
  {
   "cell_type": "code",
   "execution_count": null,
   "metadata": {
    "ExecuteTime": {
     "start_time": "2017-06-20T06:44:36.219Z"
    },
    "collapsed": false
   },
   "outputs": [
    {
     "name": "stdout",
     "output_type": "stream",
     "text": [
      "batch: 100, batch_loss: 0.688246328831\n",
      "batch: 200, batch_loss: 0.67787404865\n",
      "batch: 300, batch_loss: 0.669855244557\n",
      "batch: 400, batch_loss: 0.657552351356\n",
      "batch: 500, batch_loss: 0.65127071923\n",
      "batch: 600, batch_loss: 0.643693059683\n",
      "batch: 700, batch_loss: 0.632252768278\n",
      "batch: 800, batch_loss: 0.62206856586\n",
      "Epoch: 1, time: 0m 36s (- 8m 37s), loss: 0.618592751949\n",
      "Accuracy of the network on the 25000 texts: 68.792%\n",
      "batch: 100, batch_loss: 0.517132448554\n",
      "batch: 200, batch_loss: 0.507845344394\n",
      "batch: 300, batch_loss: 0.506359163821\n",
      "batch: 400, batch_loss: 0.505910730734\n",
      "batch: 500, batch_loss: 0.499789999336\n",
      "batch: 600, batch_loss: 0.50040731507\n",
      "batch: 700, batch_loss: 0.49427968485\n",
      "batch: 800, batch_loss: 0.489858071879\n",
      "Epoch: 2, time: 1m 19s (- 8m 35s), loss: 0.489912014012\n",
      "Accuracy of the network on the 25000 texts: 73.276%\n",
      "batch: 100, batch_loss: 0.446806558073\n",
      "batch: 200, batch_loss: 0.445086869895\n",
      "batch: 300, batch_loss: 0.446847209583\n",
      "batch: 400, batch_loss: 0.44819522243\n",
      "batch: 500, batch_loss: 0.444837816894\n",
      "batch: 600, batch_loss: 0.439522436634\n",
      "batch: 700, batch_loss: 0.442335691175\n",
      "batch: 800, batch_loss: 0.439972194117\n",
      "Epoch: 3, time: 2m 0s (- 8m 3s), loss: 0.439454973585\n",
      "Accuracy of the network on the 25000 texts: 75.256%\n"
     ]
    }
   ],
   "source": [
    "\n",
    "\n",
    "clf = IMDB_Classifier(max_features, 128, 64, 70, batch_size)\n",
    "clf = clf.cuda(device_id) if use_cuda else clf\n",
    "optimizer = optim.Adam(clf.parameters(), lr=0.001)\n",
    "criterion = nn.BCELoss()\n",
    "\n",
    "start = time.time()\n",
    "losses_log = []\n",
    "for epoch in range(1, 4):\n",
    "    losses = 0\n",
    "    indices = np.random.permutation(np.array(range(25000)))\n",
    "    for i in range(1, indices.shape[0] / batch_size + 1):\n",
    "        x, lengths, y = textTensor(indices[(i-1)*batch_size:i*batch_size], x_train, y_train)\n",
    "        x, y = Variable(x), Variable(y)\n",
    "\n",
    "        (x, y) = (x.cuda(device_id), y.cuda(device_id)) if use_cuda else (x, y)\n",
    "\n",
    "        output = clf(x, lengths)\n",
    "        loss = criterion(output, y)\n",
    "        losses += loss.data[0]\n",
    "        optimizer.zero_grad()\n",
    "        loss.backward()\n",
    "        optimizer.step()\n",
    "        losses_log.append(losses / i)\n",
    "        if i % 100 == 0:\n",
    "            print(\"batch: {}, batch_loss: {}\".format(i, losses / i))\n",
    "\n",
    "    print(\"Epoch: {}, time: {}, loss: {}\".format(epoch, timeSince(start, float(epoch) / epochs), losses/(i)))\n",
    "\n",
    "\n",
    "\n",
    "    total = 0\n",
    "    correct = 0\n",
    "    for i in range(250):\n",
    "        x, lengths, y = textTensor(range(25000)[i*100:(i+1)*100], x_train, y_train)\n",
    "        #x, lengths, y = textTensor(torch.LongTensor(range(32)), x_train, y_train)\n",
    "        x, y = Variable(x, volatile=True), Variable(y)\n",
    "        (x, y) = (x.cuda(device_id), y.cuda(device_id)) if use_cuda else (x, y)\n",
    "        output = clf(x, lengths)\n",
    "        output = output > 0.5\n",
    "        correct += (output.float() == y).sum().data[0]\n",
    "        total += y.size(0)\n",
    "    print('Accuracy of the network on the {} texts: {}%'.format(y_test.shape[0], 100. * correct / total))"
   ]
  },
  {
   "cell_type": "code",
   "execution_count": 20,
   "metadata": {
    "ExecuteTime": {
     "end_time": "2017-06-20T06:43:44.046756",
     "start_time": "2017-06-20T15:43:43.897125+09:00"
    },
    "collapsed": false
   },
   "outputs": [
    {
     "data": {
      "text/plain": [
       "[<matplotlib.lines.Line2D at 0x7f39103306d0>]"
      ]
     },
     "execution_count": 20,
     "metadata": {},
     "output_type": "execute_result"
    },
    {
     "data": {
      "image/png": "[encoded data removed]",
      "text/plain": [
       "<matplotlib.figure.Figure at 0x7f391815ab10>"
      ]
     },
     "metadata": {},
     "output_type": "display_data"
    }
   ],
   "source": [
    "plt.plot(losses_log)"
   ]
  },
  {
   "cell_type": "code",
   "execution_count": null,
   "metadata": {
    "collapsed": true
   },
   "outputs": [],
   "source": []
  }
 ],
 "metadata": {
  "kernelspec": {
   "display_name": "LATEST",
   "language": "python",
   "name": "latest"
  },
  "language_info": {
   "codemirror_mode": {
    "name": "ipython",
    "version": 2
   },
   "file_extension": ".py",
   "mimetype": "text/x-python",
   "name": "python",
   "nbconvert_exporter": "python",
   "pygments_lexer": "ipython2",
   "version": "2.7.12"
  },
  "toc": {
   "colors": {
    "hover_highlight": "#DAA520",
    "running_highlight": "#FF0000",
    "selected_highlight": "#FFD700"
   },
   "moveMenuLeft": true,
   "nav_menu": {
    "height": "11px",
    "width": "251px"
   },
   "navigate_menu": true,
   "number_sections": true,
   "sideBar": true,
   "threshold": 4,
   "toc_cell": false,
   "toc_section_display": "block",
   "toc_window_display": false
  }
 },
 "nbformat": 4,
 "nbformat_minor": 2
}
